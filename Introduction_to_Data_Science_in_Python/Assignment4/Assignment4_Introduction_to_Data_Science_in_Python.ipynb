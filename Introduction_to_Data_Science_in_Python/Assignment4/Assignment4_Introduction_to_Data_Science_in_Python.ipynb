{
 "cells": [
  {
   "cell_type": "markdown",
   "metadata": {},
   "source": [
    "# Assignment 4<br>\n",
    "\n",
    "## Description\n",
    "In this assignment you must read in a file of metropolitan regions and associated sports teams from [wikipedia_data.html](wikipedia_data.html) and answer some questions about each metropolitan region. Each of these regions may have one or more teams from the \"Big 4\": NFL (football, in [nfl.csv](nfl.csv)), MLB (baseball, in [mlb.csv](mlb.csv)), NBA (basketball, in [nba.csv](nba.csv)), or NHL (hockey, in [nhl.csv](nhl.csv)). Please keep in mind that all questions are from the perspective of the metropolitan region, and that this file is the \"source of authority\" for the location of a given sports team. Thus teams which are commonly known by a different area (e.g. \"Oakland Raiders\") need to be mapped into the metropolitan region given (e.g. San Francisco Bay Area). This will require some human data understanding outside of the data you've been given (e.g. you will have to hand-code some names, and might need to google to find out where teams are)!  \n",
    "\n",
    "For each sport I would like you to answer the question: **what is the win/loss ratio's correlation with the population of the city it is in?** Win/Loss ratio refers to the number of wins over the number of wins plus the number of losses. Remember that to calculate the correlation with [`pearsonr`](https://docs.scipy.org/doc/scipy/reference/generated/scipy.stats.pearsonr.html), you are going to send in two ordered lists of values, the populations from the [wikipedia_data.html](wikipedia_data.html) file and the win/loss ratio for a given sport in the same order. Average the win/loss ratios for those cities which have multiple teams of a single sport. Each sport is worth an equal amount in this assignment (20%\\*4=80%). You should only use data **from year 2018** for your analysis -- this is important!<br>\n",
    "<br>\n",
    "## Notes\n",
    "1. Do not include data about the MLS or CFL in any of the work you are doing, we're only interested in the Big 4 in this assignment.\n",
    "2. I highly suggest that you first tackle the four correlation questions in order, as they are all similar and worth the majority of the grade for this assignment. This is by design!\n",
    "3. It's fair game to talk with peers about high level strategy as well as the relationship between metropolitan areas and sports teams. However, do not post code solving aspects of the assignment (such as dictionaries mapping areas to teams, or regexes which will clean up names).\n",
    "4. There may be more teams than the `assert` statements test, remember to collapse multiple teams in one city into a single value!"
   ]
  },
  {
   "cell_type": "markdown",
   "metadata": {},
   "source": [
    "## Question 1<br>\n",
    "\n",
    "For this question, calculate the win/loss ratio's correlation with the population of the city it is in for the **NHL** using **2018** data."
   ]
  },
  {
   "cell_type": "code",
   "execution_count": 1,
   "metadata": {},
   "outputs": [],
   "source": [
    "import pandas as pd\n",
    "import numpy as np\n",
    "import scipy.stats as stats\n",
    "import re\n",
    "\n",
    "cities = pd.read_html('wikipedia_data.html')[1]\n",
    "cities = cities.iloc[:-1, [0,3,5,6,7,8]]\n",
    "\n",
    "#cities.head(20)"
   ]
  },
  {
   "cell_type": "code",
   "execution_count": 2,
   "metadata": {},
   "outputs": [],
   "source": [
    "def clean_cities_df(cities_df, league):\n",
    "    cities_df.rename(columns={'Population (2016 est.)[8]':'2016 Population'}, inplace=True)\n",
    "    cities_df.replace(b'\\xe2\\x80\\x94'.decode('utf-8'), '-', inplace=True)\n",
    "    cities_df.replace('\\[.*\\]', '-', regex=True, inplace=True)\n",
    "    \n",
    "    cities_df = cities_df[['Metropolitan area', '2016 Population', league]]\n",
    "    cities_df = cities_df[cities_df[league] != '-'] \n",
    "    if league == 'NFL':\n",
    "        cities_df = cities_df[cities_df['Metropolitan area'] != 'Toronto']\n",
    "        \n",
    "    return cities_df\n",
    "\n",
    "\n",
    "def parse_wiki_teams(group, league):\n",
    "    # teams = re.findall('[A-Z\\d]+[a-z]+(?=[A-Z])|[A-Z][a-z]+ [A-Z][a-z]+|[A-Z\\d]+[a-z]+', group[league].iloc[0])  ## This worked for an older version of (I believe) pd.read_html\n",
    "                                                                                                                 ## which read in the team names slightly differently.\n",
    "    two_word_teams = ['White Sox',\n",
    "                      'Red Sox',\n",
    "                      'Blue Jays',\n",
    "                      'Trail Blazers',\n",
    "                      'Red Wings',\n",
    "                      'Maple Leafs',\n",
    "                      'Blue Jackets',\n",
    "                      'Golden Knights']\n",
    "    \n",
    "    teams = re.findall('|'.join(two_word_teams)+'|[A-Z\\d]+[a-z]+', group[league].iloc[0])\n",
    "    \n",
    "    del(group[league])\n",
    "    modified_group = pd.concat([group]*len(teams))\n",
    "    modified_group['team'] = teams\n",
    "    \n",
    "    return modified_group\n",
    "\n",
    "\n",
    "def merge_and_agg(cities_and_teams, league_df, league):\n",
    "    merged_df = pd.merge(cities_and_teams, league_df, how='inner', on='team')\n",
    "    merged_df.set_index(['Metropolitan area', 'team'], inplace=True)\n",
    "    merged_df = merged_df.astype(float)\n",
    "    \n",
    "    if league == 'NHL':\n",
    "        merged_df['W/L%'] = merged_df['W'] / (merged_df['W'] + merged_df['L'])\n",
    "    \n",
    "    agg_df = merged_df.groupby('Metropolitan area').agg({'2016 Population':np.mean, 'W/L%':np.mean})\n",
    "    agg_df['2016 Population'] = agg_df['2016 Population'].astype(int)\n",
    "    \n",
    "    return merged_df, agg_df, agg_df['2016 Population'], agg_df['W/L%']"
   ]
  },
  {
   "cell_type": "code",
   "execution_count": 3,
   "metadata": {},
   "outputs": [],
   "source": [
    "nhl_df = pd.read_csv('nhl.csv')\n",
    "\n",
    "#nhl_df.head(20)"
   ]
  },
  {
   "cell_type": "code",
   "execution_count": 4,
   "metadata": {
    "scrolled": false
   },
   "outputs": [
    {
     "name": "stdout",
     "output_type": "stream",
     "text": [
      "PearsonRResult(statistic=0.012486162921209881, pvalue=0.9497182859911808)\n",
      "28\n"
     ]
    },
    {
     "name": "stderr",
     "output_type": "stream",
     "text": [
      "/tmp/ipykernel_16008/3903574712.py:10: SettingWithCopyWarning: \n",
      "A value is trying to be set on a copy of a slice from a DataFrame.\n",
      "Try using .loc[row_indexer,col_indexer] = value instead\n",
      "\n",
      "See the caveats in the documentation: https://pandas.pydata.org/pandas-docs/stable/user_guide/indexing.html#returning-a-view-versus-a-copy\n",
      "  nhl_df['team'] = nhl_df['team'].replace('\\*', '', regex=True)\n",
      "/tmp/ipykernel_16008/3903574712.py:11: SettingWithCopyWarning: \n",
      "A value is trying to be set on a copy of a slice from a DataFrame.\n",
      "Try using .loc[row_indexer,col_indexer] = value instead\n",
      "\n",
      "See the caveats in the documentation: https://pandas.pydata.org/pandas-docs/stable/user_guide/indexing.html#returning-a-view-versus-a-copy\n",
      "  nhl_df['team'] = nhl_df['team'].apply(lambda x: x.split()[-1])\n"
     ]
    }
   ],
   "source": [
    "def nhl_correlation(cities, nhl_df): \n",
    "    \n",
    "    sports_league = 'NHL'\n",
    "    \n",
    "    cities_cleaned = clean_cities_df(cities, sports_league)\n",
    "    \n",
    "    cities_reorg   = cities_cleaned.groupby('Metropolitan area').apply(lambda x: parse_wiki_teams(x, sports_league)) \n",
    "\n",
    "    nhl_df = nhl_df[nhl_df['year'] == 2018]\n",
    "    nhl_df['team'] = nhl_df['team'].replace('\\*', '', regex=True)\n",
    "    nhl_df['team'] = nhl_df['team'].apply(lambda x: x.split()[-1])\n",
    "    del(nhl_df['League'])\n",
    "    \n",
    "    for team in cities_reorg['team']:\n",
    "        index = nhl_df.index[nhl_df['team'] == team.split()[-1]]\n",
    "        nhl_df.loc[index, 'team'] = team\n",
    "        \n",
    "    merged_df, agg_df, population_by_region, win_loss_by_region = merge_and_agg(cities_reorg, nhl_df, sports_league)\n",
    "    \n",
    "    pearson_corr = stats.pearsonr(population_by_region, win_loss_by_region)\n",
    "    \n",
    "    return pearson_corr, cities_reorg, nhl_df, merged_df, agg_df\n",
    "\n",
    "pearson_nhl, cities_reorg_nhl, nhl_df, merged_nhl_df, agg_nhl_df = nhl_correlation(cities, nhl_df)\n",
    "\n",
    "print(pearson_nhl)\n",
    "print(len(agg_nhl_df))\n",
    "#agg_nhl_df"
   ]
  },
  {
   "cell_type": "code",
   "execution_count": null,
   "metadata": {
    "scrolled": false
   },
   "outputs": [],
   "source": [
    "#cities_reorg_nhl"
   ]
  },
  {
   "cell_type": "code",
   "execution_count": null,
   "metadata": {
    "scrolled": false
   },
   "outputs": [],
   "source": [
    "#nhl_df"
   ]
  },
  {
   "cell_type": "code",
   "execution_count": null,
   "metadata": {
    "scrolled": false
   },
   "outputs": [],
   "source": [
    "#merged_nhl_df"
   ]
  },
  {
   "cell_type": "markdown",
   "metadata": {},
   "source": [
    "## Question 2<br>\n",
    "\n",
    "For this question, calculate the win/loss ratio's correlation with the population of the city it is in for the **NBA** using **2018** data."
   ]
  },
  {
   "cell_type": "code",
   "execution_count": 5,
   "metadata": {},
   "outputs": [],
   "source": [
    "nba_df = pd.read_csv('nba.csv')\n",
    "\n",
    "#nba_df.head(20)"
   ]
  },
  {
   "cell_type": "code",
   "execution_count": 6,
   "metadata": {},
   "outputs": [
    {
     "name": "stdout",
     "output_type": "stream",
     "text": [
      "PearsonRResult(statistic=-0.17636350642182935, pvalue=0.36932106185547353)\n",
      "28\n"
     ]
    },
    {
     "name": "stderr",
     "output_type": "stream",
     "text": [
      "/tmp/ipykernel_16008/1083360393.py:10: SettingWithCopyWarning: \n",
      "A value is trying to be set on a copy of a slice from a DataFrame.\n",
      "Try using .loc[row_indexer,col_indexer] = value instead\n",
      "\n",
      "See the caveats in the documentation: https://pandas.pydata.org/pandas-docs/stable/user_guide/indexing.html#returning-a-view-versus-a-copy\n",
      "  nba_df['team'] = nba_df['team'].apply(lambda x: re.match('[\\w\\s]+', x).group()) #Searches beginning of string. .search looks for a match anywhere in the string\n",
      "/tmp/ipykernel_16008/1083360393.py:11: SettingWithCopyWarning: \n",
      "A value is trying to be set on a copy of a slice from a DataFrame.\n",
      "Try using .loc[row_indexer,col_indexer] = value instead\n",
      "\n",
      "See the caveats in the documentation: https://pandas.pydata.org/pandas-docs/stable/user_guide/indexing.html#returning-a-view-versus-a-copy\n",
      "  nba_df['team'] = nba_df['team'].apply(lambda x: x.strip().split()[-1])\n",
      "/tmp/ipykernel_16008/1083360393.py:12: SettingWithCopyWarning: \n",
      "A value is trying to be set on a copy of a slice from a DataFrame\n",
      "\n",
      "See the caveats in the documentation: https://pandas.pydata.org/pandas-docs/stable/user_guide/indexing.html#returning-a-view-versus-a-copy\n",
      "  nba_df.replace(b'\\xe2\\x80\\x94'.decode('utf-8'), np.nan, inplace=True)\n"
     ]
    }
   ],
   "source": [
    "def nba_correlation(cities, nba_df):\n",
    "\n",
    "    sports_league = 'NBA'\n",
    "    \n",
    "    cities_cleaned = clean_cities_df(cities, sports_league)\n",
    "    \n",
    "    cities_reorg   = cities_cleaned.groupby('Metropolitan area').apply(lambda x: parse_wiki_teams(x, sports_league)) \n",
    "    \n",
    "    nba_df = nba_df[nba_df['year'] == 2018]\n",
    "    nba_df['team'] = nba_df['team'].apply(lambda x: re.match('[\\w\\s]+', x).group()) #Searches beginning of string. .search looks for a match anywhere in the string\n",
    "    nba_df['team'] = nba_df['team'].apply(lambda x: x.strip().split()[-1])\n",
    "    nba_df.replace(b'\\xe2\\x80\\x94'.decode('utf-8'), np.nan, inplace=True)\n",
    "    del(nba_df['League'])\n",
    "    \n",
    "    for team in cities_reorg['team']:\n",
    "        index = nba_df.index[nba_df['team'] == team.split()[-1]]\n",
    "        nba_df.loc[index, 'team'] = team\n",
    "        \n",
    "    merged_df, agg_df, population_by_region, win_loss_by_region = merge_and_agg(cities_reorg, nba_df, sports_league)\n",
    "    \n",
    "    pearson_corr = stats.pearsonr(population_by_region, win_loss_by_region)\n",
    "    \n",
    "    return pearson_corr, cities_reorg, nba_df, merged_df, agg_df\n",
    "\n",
    "pearson_nba, cities_reorg_nba, nba_df, merged_nba_df, agg_nba_df = nba_correlation(cities, nba_df)\n",
    "\n",
    "print(pearson_nba)\n",
    "print(len(agg_nba_df))\n",
    "#agg_nba_df"
   ]
  },
  {
   "cell_type": "code",
   "execution_count": null,
   "metadata": {},
   "outputs": [],
   "source": [
    "#cities_reorg_nba"
   ]
  },
  {
   "cell_type": "code",
   "execution_count": null,
   "metadata": {},
   "outputs": [],
   "source": [
    "#nba_df"
   ]
  },
  {
   "cell_type": "code",
   "execution_count": null,
   "metadata": {},
   "outputs": [],
   "source": [
    "#merged_nba_df"
   ]
  },
  {
   "cell_type": "markdown",
   "metadata": {},
   "source": [
    "## Question 3<br>\n",
    "\n",
    "For this question, calculate the win/loss ratio's correlation with the population of the city it is in for the **MLB** using **2018** data."
   ]
  },
  {
   "cell_type": "code",
   "execution_count": 7,
   "metadata": {},
   "outputs": [],
   "source": [
    "mlb_df = pd.read_csv('mlb.csv')\n",
    "\n",
    "#mlb_df.head(20)"
   ]
  },
  {
   "cell_type": "code",
   "execution_count": 8,
   "metadata": {
    "scrolled": false
   },
   "outputs": [
    {
     "name": "stdout",
     "output_type": "stream",
     "text": [
      "PearsonRResult(statistic=0.15003737475409495, pvalue=0.46442827201123316)\n",
      "26\n"
     ]
    },
    {
     "name": "stderr",
     "output_type": "stream",
     "text": [
      "/tmp/ipykernel_16008/2591440936.py:18: SettingWithCopyWarning: \n",
      "A value is trying to be set on a copy of a slice from a DataFrame\n",
      "\n",
      "See the caveats in the documentation: https://pandas.pydata.org/pandas-docs/stable/user_guide/indexing.html#returning-a-view-versus-a-copy\n",
      "  mlb_df.rename(columns={'W-L%':'W/L%'}, inplace=True)  ##To maintain consistency in W/L column name\n",
      "/tmp/ipykernel_16008/2591440936.py:19: SettingWithCopyWarning: \n",
      "A value is trying to be set on a copy of a slice from a DataFrame\n",
      "\n",
      "See the caveats in the documentation: https://pandas.pydata.org/pandas-docs/stable/user_guide/indexing.html#returning-a-view-versus-a-copy\n",
      "  mlb_df.replace('--', np.nan, inplace=True)\n",
      "/tmp/ipykernel_16008/2591440936.py:20: SettingWithCopyWarning: \n",
      "A value is trying to be set on a copy of a slice from a DataFrame.\n",
      "Try using .loc[row_indexer,col_indexer] = value instead\n",
      "\n",
      "See the caveats in the documentation: https://pandas.pydata.org/pandas-docs/stable/user_guide/indexing.html#returning-a-view-versus-a-copy\n",
      "  mlb_df['team'] = mlb_df['team'].apply(lambda x: split_team_name(x))\n"
     ]
    }
   ],
   "source": [
    "def mlb_correlation(cities, mlb_df):\n",
    "    \n",
    "    def split_team_name(team):\n",
    "        if team == 'Boston Red Sox':\n",
    "            return 'Red Sox'\n",
    "        elif team == 'Chicago White Sox':\n",
    "            return 'White Sox'\n",
    "        else:\n",
    "            return team.split()[-1]\n",
    "    \n",
    "    sports_league = 'MLB'\n",
    "    \n",
    "    cities_cleaned = clean_cities_df(cities, sports_league)\n",
    "    \n",
    "    cities_reorg   = cities_cleaned.groupby('Metropolitan area').apply(lambda x: parse_wiki_teams(x, sports_league))\n",
    "    \n",
    "    mlb_df = mlb_df[mlb_df['year'] == 2018]\n",
    "    mlb_df.rename(columns={'W-L%':'W/L%'}, inplace=True)  ##To maintain consistency in W/L column name\n",
    "    mlb_df.replace('--', np.nan, inplace=True)\n",
    "    mlb_df['team'] = mlb_df['team'].apply(lambda x: split_team_name(x))\n",
    "    del(mlb_df['League'])\n",
    "    \n",
    "    for team in cities_reorg['team']:\n",
    "        if (team != 'Red Sox') and (team != 'White Sox'):\n",
    "            index = mlb_df.index[mlb_df['team'] == team.split()[-1]]\n",
    "            mlb_df.loc[index, 'team'] = team\n",
    "            \n",
    "    merged_df, agg_df, population_by_region, win_loss_by_region = merge_and_agg(cities_reorg, mlb_df, sports_league)\n",
    "    \n",
    "    pearson_corr = stats.pearsonr(population_by_region, win_loss_by_region)\n",
    "    \n",
    "    return pearson_corr, cities_reorg, mlb_df, merged_df, agg_df\n",
    "\n",
    "pearson_mlb, cities_reorg_mlb, mlb_df, merged_mlb_df, agg_mlb_df = mlb_correlation(cities, mlb_df)\n",
    "\n",
    "print(pearson_mlb)\n",
    "print(len(agg_mlb_df))\n",
    "#agg_mlb_df"
   ]
  },
  {
   "cell_type": "code",
   "execution_count": null,
   "metadata": {},
   "outputs": [],
   "source": [
    "#cities_reorg_mlb"
   ]
  },
  {
   "cell_type": "code",
   "execution_count": null,
   "metadata": {},
   "outputs": [],
   "source": [
    "#mlb_df"
   ]
  },
  {
   "cell_type": "code",
   "execution_count": null,
   "metadata": {},
   "outputs": [],
   "source": [
    "#merged_mlb_df"
   ]
  },
  {
   "cell_type": "markdown",
   "metadata": {},
   "source": [
    "## Question 4<br>\n",
    "\n",
    "For this question, calculate the win/loss ratio's correlation with the population of the city it is in for the **NFL** using **2018** data."
   ]
  },
  {
   "cell_type": "code",
   "execution_count": 9,
   "metadata": {},
   "outputs": [],
   "source": [
    "nfl_df = pd.read_csv('nfl.csv')\n",
    "\n",
    "#nfl_df.head(20)"
   ]
  },
  {
   "cell_type": "code",
   "execution_count": 10,
   "metadata": {},
   "outputs": [
    {
     "name": "stdout",
     "output_type": "stream",
     "text": [
      "PearsonRResult(statistic=0.004282141436393022, pvalue=0.9824114740736539)\n",
      "29\n"
     ]
    },
    {
     "name": "stderr",
     "output_type": "stream",
     "text": [
      "/tmp/ipykernel_16008/3877692180.py:10: SettingWithCopyWarning: \n",
      "A value is trying to be set on a copy of a slice from a DataFrame.\n",
      "Try using .loc[row_indexer,col_indexer] = value instead\n",
      "\n",
      "See the caveats in the documentation: https://pandas.pydata.org/pandas-docs/stable/user_guide/indexing.html#returning-a-view-versus-a-copy\n",
      "  nfl_df['team'] = nfl_df['team'].replace('[\\*\\+]', '', regex=True)\n",
      "/tmp/ipykernel_16008/3877692180.py:11: SettingWithCopyWarning: \n",
      "A value is trying to be set on a copy of a slice from a DataFrame.\n",
      "Try using .loc[row_indexer,col_indexer] = value instead\n",
      "\n",
      "See the caveats in the documentation: https://pandas.pydata.org/pandas-docs/stable/user_guide/indexing.html#returning-a-view-versus-a-copy\n",
      "  nfl_df['team'] = nfl_df['team'].apply(lambda x: x.split()[-1])\n",
      "/tmp/ipykernel_16008/3877692180.py:12: SettingWithCopyWarning: \n",
      "A value is trying to be set on a copy of a slice from a DataFrame\n",
      "\n",
      "See the caveats in the documentation: https://pandas.pydata.org/pandas-docs/stable/user_guide/indexing.html#returning-a-view-versus-a-copy\n",
      "  nfl_df.rename(columns={'W-L%':'W/L%'}, inplace=True) ##To maintain consistency in W/L column name\n"
     ]
    }
   ],
   "source": [
    "def nfl_correlation(cities, nfl_df):\n",
    "    \n",
    "    sports_league = 'NFL'\n",
    "    \n",
    "    cities_cleaned = clean_cities_df(cities, sports_league)\n",
    "    \n",
    "    cities_reorg   = cities_cleaned.groupby('Metropolitan area').apply(lambda x: parse_wiki_teams(x, sports_league))\n",
    "    \n",
    "    nfl_df = nfl_df[nfl_df['year'] == 2018]\n",
    "    nfl_df['team'] = nfl_df['team'].replace('[\\*\\+]', '', regex=True)\n",
    "    nfl_df['team'] = nfl_df['team'].apply(lambda x: x.split()[-1])\n",
    "    nfl_df.rename(columns={'W-L%':'W/L%'}, inplace=True) ##To maintain consistency in W/L column name\n",
    "    del(nfl_df['League'])\n",
    "    \n",
    "    merged_df, agg_df, population_by_region, win_loss_by_region = merge_and_agg(cities_reorg, nfl_df, sports_league)\n",
    "    \n",
    "    pearson_corr = stats.pearsonr(population_by_region, win_loss_by_region)\n",
    "    \n",
    "    return pearson_corr, cities_reorg, nfl_df, merged_df, agg_df\n",
    "\n",
    "pearson_nfl, cities_reorg_nfl, nfl_df, merged_nfl_df, agg_nfl_df = nfl_correlation(cities, nfl_df)\n",
    "\n",
    "print(pearson_nfl)\n",
    "print(len(agg_nfl_df))\n",
    "#agg_nfl_df"
   ]
  },
  {
   "cell_type": "code",
   "execution_count": null,
   "metadata": {},
   "outputs": [],
   "source": [
    "#cities_reorg_nfl"
   ]
  },
  {
   "cell_type": "code",
   "execution_count": null,
   "metadata": {},
   "outputs": [],
   "source": [
    "#nfl_df"
   ]
  },
  {
   "cell_type": "code",
   "execution_count": null,
   "metadata": {},
   "outputs": [],
   "source": [
    "#merged_nfl_df"
   ]
  },
  {
   "cell_type": "markdown",
   "metadata": {},
   "source": [
    "## Question 5<br>\n",
    "\n",
    "In this question I would like you to explore the hypothesis that **given that an area has two sports teams in different sports, those teams will perform the same within their respective sports**. How I would like to see this explored is with a series of paired t-tests (so use [`ttest_rel`](https://docs.scipy.org/doc/scipy/reference/generated/scipy.stats.ttest_rel.html)) between all pairs of sports. Are there any sports where we can reject the null hypothesis? Again, average values where a sport has multiple teams in one region. Remember, you will only be including, for each sport, cities which have teams engaged in that sport, drop others as appropriate. This question is worth 20% of the grade for this assignment."
   ]
  },
  {
   "cell_type": "code",
   "execution_count": 11,
   "metadata": {},
   "outputs": [
    {
     "name": "stdout",
     "output_type": "stream",
     "text": [
      "          NFL       NBA       NHL       MLB\n",
      "NFL       NaN  0.937509  0.030318  0.803459\n",
      "NBA  0.937509       NaN  0.022386  0.949566\n",
      "NHL  0.030318  0.022386       NaN  0.000703\n",
      "MLB  0.803459  0.949566  0.000703       NaN \n",
      "\n"
     ]
    },
    {
     "data": {
      "text/html": [
       "<div>\n",
       "<style scoped>\n",
       "    .dataframe tbody tr th:only-of-type {\n",
       "        vertical-align: middle;\n",
       "    }\n",
       "\n",
       "    .dataframe tbody tr th {\n",
       "        vertical-align: top;\n",
       "    }\n",
       "\n",
       "    .dataframe thead th {\n",
       "        text-align: right;\n",
       "    }\n",
       "</style>\n",
       "<table border=\"1\" class=\"dataframe\">\n",
       "  <thead>\n",
       "    <tr style=\"text-align: right;\">\n",
       "      <th></th>\n",
       "      <th>NFL</th>\n",
       "      <th>NBA</th>\n",
       "      <th>NHL</th>\n",
       "      <th>MLB</th>\n",
       "    </tr>\n",
       "  </thead>\n",
       "  <tbody>\n",
       "    <tr>\n",
       "      <th>NFL</th>\n",
       "      <td>NaN</td>\n",
       "      <td>0.937509</td>\n",
       "      <td>0.030318</td>\n",
       "      <td>0.803459</td>\n",
       "    </tr>\n",
       "    <tr>\n",
       "      <th>NBA</th>\n",
       "      <td>0.937509</td>\n",
       "      <td>NaN</td>\n",
       "      <td>0.022386</td>\n",
       "      <td>0.949566</td>\n",
       "    </tr>\n",
       "    <tr>\n",
       "      <th>NHL</th>\n",
       "      <td>0.030318</td>\n",
       "      <td>0.022386</td>\n",
       "      <td>NaN</td>\n",
       "      <td>0.000703</td>\n",
       "    </tr>\n",
       "    <tr>\n",
       "      <th>MLB</th>\n",
       "      <td>0.803459</td>\n",
       "      <td>0.949566</td>\n",
       "      <td>0.000703</td>\n",
       "      <td>NaN</td>\n",
       "    </tr>\n",
       "  </tbody>\n",
       "</table>\n",
       "</div>"
      ],
      "text/plain": [
       "          NFL       NBA       NHL       MLB\n",
       "NFL       NaN  0.937509  0.030318  0.803459\n",
       "NBA  0.937509       NaN  0.022386  0.949566\n",
       "NHL  0.030318  0.022386       NaN  0.000703\n",
       "MLB  0.803459  0.949566  0.000703       NaN"
      ]
     },
     "execution_count": 11,
     "metadata": {},
     "output_type": "execute_result"
    }
   ],
   "source": [
    "def sports_team_performance(agg_nfl, agg_nba, agg_nhl, agg_mlb):\n",
    "    agg_df_by_sport = {'NFL':agg_nfl, 'NBA':agg_nba, 'NHL':agg_nhl, 'MLB':agg_mlb}\n",
    "    pairs_of_sports = ['NFL-NBA', 'NFL-NHL', 'NFL-MLB', 'NBA-NHL', 'NBA-MLB', 'NHL-MLB']\n",
    "    p_values = pd.DataFrame({k:np.nan for k in ['NFL', 'NBA', 'NHL', 'MLB']}, index=['NFL', 'NBA', 'NHL', 'MLB'])\n",
    "    \n",
    "    for pair in pairs_of_sports:\n",
    "        sport1 = pair.split('-')[0]\n",
    "        sport2 = pair.split('-')[1]\n",
    "        common_cities = pd.merge(agg_df_by_sport[sport1], agg_df_by_sport[sport2], how='inner', left_index=True, right_index=True, suffixes=['_'+sport1, '_'+sport2])\n",
    "        ttest = stats.ttest_rel(common_cities['W/L%_'+sport1], common_cities['W/L%_'+sport2])\n",
    "        p_values.loc[sport1, sport2] = ttest.pvalue\n",
    "        p_values.loc[sport2, sport1] = ttest.pvalue\n",
    "        \n",
    "    return p_values\n",
    "\n",
    "pvalues = sports_team_performance(agg_nfl_df, agg_nba_df, agg_nhl_df, agg_mlb_df)\n",
    "print(pvalues, '\\n')\n",
    "pvalues\n",
    "    "
   ]
  },
  {
   "cell_type": "code",
   "execution_count": null,
   "metadata": {},
   "outputs": [],
   "source": []
  }
 ],
 "metadata": {
  "kernelspec": {
   "display_name": "Python 3 (ipykernel)",
   "language": "python",
   "name": "python3"
  },
  "language_info": {
   "codemirror_mode": {
    "name": "ipython",
    "version": 3
   },
   "file_extension": ".py",
   "mimetype": "text/x-python",
   "name": "python",
   "nbconvert_exporter": "python",
   "pygments_lexer": "ipython3",
   "version": "3.10.9"
  }
 },
 "nbformat": 4,
 "nbformat_minor": 4
}
