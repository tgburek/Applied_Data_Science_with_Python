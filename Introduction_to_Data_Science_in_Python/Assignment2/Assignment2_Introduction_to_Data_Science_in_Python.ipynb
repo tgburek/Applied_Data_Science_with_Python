{
 "cells": [
  {
   "cell_type": "markdown",
   "metadata": {},
   "source": [
    "# Assignment 2<br>\n",
    "\n",
    "For this assignment you'll be looking at 2017 data on immunizations from the CDC. Your datafile for this assignment is in [NISPUF17.csv](NISPUF17.csv). A data users guide for this, which you'll need to map the variables in the data to the questions being asked, is available at [NIS-PUF17-DUG.pdf](NIS-PUF17-DUG.pdf). An additional, *and necessary*, codebook is [NIS-PUF17-CODEBOOK.pdf](NIS-PUF17-CODEBOOK.pdf)."
   ]
  },
  {
   "cell_type": "code",
   "execution_count": 1,
   "metadata": {},
   "outputs": [
    {
     "name": "stdout",
     "output_type": "stream",
     "text": [
      "QUESTION 1:\n",
      "Column EDUC1:  [4 3 1 2]\n",
      "\n",
      "QUESTION 2:\n",
      "Column CBF_01:  [ 1  2 99 77]\n",
      "Column P_NUMFLU:  [nan  3.  0.  2.  1.  4.  5.  6.]\n",
      "\n",
      "QUESTIONS 3 AND 4:\n",
      "Column P_NUMVRC:  [nan  1.  0.  2.  3.]\n",
      "Column SEX:  [1 2]\n",
      "Column HAD_CPOX:  [ 2  1 77 99]\n"
     ]
    }
   ],
   "source": [
    "import scipy.stats as stats\n",
    "import numpy as np\n",
    "import pandas as pd\n",
    "\n",
    "nis_df = pd.read_csv('NISPUF17.csv')\n",
    "\n",
    "print('QUESTION 1:')\n",
    "print('Column EDUC1: ', nis_df['EDUC1'].unique())\n",
    "print()\n",
    "print('QUESTION 2:')\n",
    "print('Column CBF_01: ', nis_df['CBF_01'].unique())\n",
    "print('Column P_NUMFLU: ', nis_df['P_NUMFLU'].unique())\n",
    "print()\n",
    "print('QUESTIONS 3 AND 4:')\n",
    "print('Column P_NUMVRC: ', nis_df['P_NUMVRC'].unique())\n",
    "print('Column SEX: ', nis_df['SEX'].unique())\n",
    "print('Column HAD_CPOX: ', nis_df['HAD_CPOX'].unique())"
   ]
  },
  {
   "cell_type": "markdown",
   "metadata": {},
   "source": [
    "## Question 1<br>\n",
    "\n",
    "Write a function called `proportion_of_education` which returns the proportion of children in the dataset who had a mother with the education levels equal to less than high school (<12), high school (12), more than high school but not a college graduate (>12) and college degree.  \n",
    "<br>\n",
    "*This function should return a dictionary in the form of (use the correct numbers, do not round numbers):*\n",
    "```\n",
    "    {\"less than high school\":0.2,\n",
    "    \"high school\":0.4,\n",
    "    \"more than high school but not college\":0.2,\n",
    "    \"college\":0.2}\n",
    "```"
   ]
  },
  {
   "cell_type": "code",
   "execution_count": 2,
   "metadata": {},
   "outputs": [
    {
     "data": {
      "text/plain": [
       "{'less than high school': 0.10202002459160373,\n",
       " 'high school': 0.172352011241876,\n",
       " 'more than high school but not college': 0.24588090637625154,\n",
       " 'college': 0.47974705779026877}"
      ]
     },
     "execution_count": 2,
     "metadata": {},
     "output_type": "execute_result"
    }
   ],
   "source": [
    "def proportion_of_education():\n",
    "    \n",
    "    nis_df = pd.read_csv('NISPUF17.csv')\n",
    "    \n",
    "    educ_dict = {}\n",
    "    \n",
    "    for i in range(1,5):\n",
    "        proportion = len(nis_df[nis_df['EDUC1'] == i]) / len(nis_df)\n",
    "        \n",
    "        if i == 1:\n",
    "            educ_dict['less than high school'] = proportion\n",
    "        elif i == 2:\n",
    "            educ_dict['high school'] = proportion\n",
    "        elif i == 3:\n",
    "            educ_dict['more than high school but not college'] = proportion\n",
    "        else:\n",
    "            educ_dict['college'] = proportion\n",
    "    \n",
    "    return educ_dict\n",
    "\n",
    "proportion_of_education()"
   ]
  },
  {
   "cell_type": "markdown",
   "metadata": {},
   "source": [
    "## Question 2<br>\n",
    "\n",
    "Let's explore the relationship between being fed breastmilk as a child and getting a seasonal influenza vaccine from a healthcare provider. Return a tuple of the average number of influenza vaccines for those children we know received breastmilk as a child and those who know did not.  \n",
    "<br>\n",
    "*Return two values in a tuple, the first for yes and the second for no. This function should return a tuple in the form (use the correct numbers):*\n",
    "```\n",
    "(2.5, 0.1)\n",
    "```"
   ]
  },
  {
   "cell_type": "code",
   "execution_count": 3,
   "metadata": {},
   "outputs": [
    {
     "data": {
      "text/plain": [
       "(1.8799187420058687, 1.5963945918878317)"
      ]
     },
     "execution_count": 3,
     "metadata": {},
     "output_type": "execute_result"
    }
   ],
   "source": [
    "def average_influenza_doses():\n",
    "    \n",
    "    nis_df = pd.read_csv('NISPUF17.csv')\n",
    "    \n",
    "    nis_df = nis_df[(nis_df['CBF_01'] != 77) & (nis_df['CBF_01'] != 99)]\n",
    "    nis_df = nis_df[nis_df['P_NUMFLU'].isnull() == False]\n",
    "    \n",
    "    nis_df_bf = nis_df[nis_df['CBF_01'] == 1]\n",
    "    nis_df_not_bf = nis_df[nis_df['CBF_01'] == 2]\n",
    "    \n",
    "    avg_bf = nis_df_bf['P_NUMFLU'].mean()\n",
    "    avg_not_bf = nis_df_not_bf['P_NUMFLU'].mean()\n",
    "    \n",
    "    return (avg_bf, avg_not_bf)\n",
    "\n",
    "average_influenza_doses()"
   ]
  },
  {
   "cell_type": "markdown",
   "metadata": {},
   "source": [
    "## Question 3<br>\n",
    "\n",
    "It would be interesting to see if there is any evidence of a link between vaccine effectiveness and sex of the child. Calculate the ratio of the number of children who contracted chickenpox but were vaccinated against it (at least one varicella dose) versus those who were vaccinated but did not contract chicken pox. Return results by sex.  \n",
    "<br>\n",
    "*This function should return a dictionary in the form of (use the correct numbers):* \n",
    "```\n",
    "    {\"male\":0.2,\n",
    "    \"female\":0.4}\n",
    "```  \n",
    "\n",
    "Note: To aid in verification, the `chickenpox_by_sex()['female']` value the autograder is looking for starts with the digits `0.0077`."
   ]
  },
  {
   "cell_type": "code",
   "execution_count": 4,
   "metadata": {},
   "outputs": [
    {
     "data": {
      "text/plain": [
       "{'male': 0.009675583380762664, 'female': 0.0077918259335489565}"
      ]
     },
     "execution_count": 4,
     "metadata": {},
     "output_type": "execute_result"
    }
   ],
   "source": [
    "def chickenpox_by_sex():\n",
    "    \n",
    "    nis_df = pd.read_csv('NISPUF17.csv')\n",
    "\n",
    "    nis_df = nis_df[nis_df['P_NUMVRC'] >= 1.]\n",
    "    nis_df = nis_df[(nis_df['HAD_CPOX'] != 77) & (nis_df['HAD_CPOX'] != 99)]\n",
    "    \n",
    "    nis_df_male = nis_df[nis_df['SEX'] == 1]\n",
    "    nis_df_female = nis_df[nis_df['SEX'] == 2]\n",
    "    \n",
    "    cpox_contr_ratio_by_sex = {'male':   len(nis_df_male[nis_df_male['HAD_CPOX'] == 1]) / len(nis_df_male[nis_df_male['HAD_CPOX'] == 2]),\n",
    "                               'female': len(nis_df_female[nis_df_female['HAD_CPOX'] == 1]) / len(nis_df_female[nis_df_female['HAD_CPOX'] == 2])}\n",
    "    \n",
    "    return cpox_contr_ratio_by_sex\n",
    "\n",
    "chickenpox_by_sex()"
   ]
  },
  {
   "cell_type": "markdown",
   "metadata": {},
   "source": [
    "## Question 4<br>\n",
    "\n",
    "A correlation is a statistical relationship between two variables. If we wanted to know if vaccines work, we might look at the correlation between the use of the vaccine and whether it results in prevention of the infection or disease<sup>1</sup>. In this question, you are to see if there is a correlation between having had the chicken pox and the number of chickenpox vaccine doses given (varicella).  \n",
    "<br>\n",
    "Some notes on interpreting the answer. The `had_chickenpox_column` is either `1` (for yes) or `2` (for no), and the `num_chickenpox_vaccine_column` is the number of doses a child has been given of the varicella vaccine. A positive correlation (e.g., `corr > 0`) means that an increase in `had_chickenpox_column` (which means more no’s) would also increase the values of `num_chickenpox_vaccine_column` (which means more doses of vaccine). If there is a negative correlation (e.g., `corr < 0`), it indicates that having had chickenpox is related to an increase in the number of vaccine doses.  \n",
    "<br>\n",
    "Also, `pval` is the probability that we observe a correlation between `had_chickenpox_column` and `num_chickenpox_vaccine_column` which is greater than or equal to a particular value occurred by chance. A small `pval` means that the observed correlation is highly unlikely to occur by chance. In this case, `pval` should be very small (will end in `e-18` indicating a very small number).  \n",
    "<br>\n",
    "<sup>1</sup>This isn’t really the full picture, since we are not looking at when the dose was given. It’s possible that children had chickenpox and then their parents went to get them the vaccine. Does this dataset have the data we would need to investigate the timing of the dose?"
   ]
  },
  {
   "cell_type": "code",
   "execution_count": 5,
   "metadata": {},
   "outputs": [
    {
     "name": "stdout",
     "output_type": "stream",
     "text": [
      "PVAL: 2.778026318345502e-18\n"
     ]
    },
    {
     "data": {
      "text/plain": [
       "0.07044873460147984"
      ]
     },
     "execution_count": 5,
     "metadata": {},
     "output_type": "execute_result"
    }
   ],
   "source": [
    "def corr_chickenpox():    \n",
    "    # this is just an example dataframe\n",
    "    #df=pd.DataFrame({\"had_chickenpox_column\":np.random.randint(1,3,size=(100)),\n",
    "    #               \"num_chickenpox_vaccine_column\":np.random.randint(0,6,size=(100))})\n",
    "\n",
    "    # here is some stub code to actually run the correlation\n",
    "    #corr, pval=stats.pearsonr(df[\"had_chickenpox_column\"],df[\"num_chickenpox_vaccine_column\"])\n",
    "    \n",
    "    # just return the correlation\n",
    "    #return corr\n",
    "\n",
    "    nis_df = pd.read_csv('NISPUF17.csv')\n",
    "    \n",
    "    nis_df = nis_df[nis_df['P_NUMVRC'].isnull() == False]\n",
    "    nis_df = nis_df[(nis_df['HAD_CPOX'] != 77) & (nis_df['HAD_CPOX'] != 99)]\n",
    "    \n",
    "    corr, pval = stats.pearsonr(nis_df['HAD_CPOX'], nis_df['P_NUMVRC'])\n",
    "    \n",
    "    print('PVAL:', pval)\n",
    "    \n",
    "    return corr\n",
    "\n",
    "corr_chickenpox()"
   ]
  },
  {
   "cell_type": "code",
   "execution_count": null,
   "metadata": {},
   "outputs": [],
   "source": []
  }
 ],
 "metadata": {
  "kernelspec": {
   "display_name": "Python 3 (ipykernel)",
   "language": "python",
   "name": "python3"
  },
  "language_info": {
   "codemirror_mode": {
    "name": "ipython",
    "version": 3
   },
   "file_extension": ".py",
   "mimetype": "text/x-python",
   "name": "python",
   "nbconvert_exporter": "python",
   "pygments_lexer": "ipython3",
   "version": "3.10.9"
  }
 },
 "nbformat": 4,
 "nbformat_minor": 4
}
